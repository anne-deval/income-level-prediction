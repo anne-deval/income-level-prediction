{
  "nbformat": 4,
  "nbformat_minor": 0,
  "metadata": {
    "colab": {
      "name": "Predict_Income_Level_EDA.ipynb",
      "version": "0.3.2",
      "provenance": [],
      "collapsed_sections": [
        "1O9idFeBhxXO"
      ],
      "toc_visible": true,
      "include_colab_link": true
    },
    "language_info": {
      "codemirror_mode": {
        "name": "ipython",
        "version": 3
      },
      "file_extension": ".py",
      "mimetype": "text/x-python",
      "name": "python",
      "nbconvert_exporter": "python",
      "pygments_lexer": "ipython3",
      "version": "3.6.0"
    },
    "kernelspec": {
      "display_name": "Python 3",
      "language": "python",
      "name": "python3"
    }
  },
  "cells": [
    {
      "cell_type": "markdown",
      "metadata": {
        "id": "view-in-github",
        "colab_type": "text"
      },
      "source": [
        "<a href=\"https://colab.research.google.com/github/anne1111/income-level-prediction/blob/master/exploratory_analysis.ipynb\" target=\"_parent\"><img src=\"https://colab.research.google.com/assets/colab-badge.svg\" alt=\"Open In Colab\"/></a>"
      ]
    },
    {
      "metadata": {
        "id": "q14_l9uKhxVM",
        "colab_type": "code",
        "colab": {}
      },
      "cell_type": "code",
      "source": [
        "import pandas as pd\n",
        "import numpy as np\n",
        "import matplotlib.pyplot as plt\n",
        "import seaborn as sns\n",
        "import pylab as pl\n",
        "\n",
        "%matplotlib inline"
      ],
      "execution_count": 0,
      "outputs": []
    },
    {
      "metadata": {
        "id": "sM8U6OdchxVQ",
        "colab_type": "text"
      },
      "cell_type": "markdown",
      "source": [
        "## Problem Statement"
      ]
    },
    {
      "metadata": {
        "id": "XDClvwfchxVR",
        "colab_type": "text"
      },
      "cell_type": "markdown",
      "source": [
        "The objective of this project is to create binary classification models to predict whether an individual’s annual income exceeds USD50K/year based on US demographic census data such as age, gender, occupation and country of origin. This could help retailers target their advertising according to the predicted income level of their audience, or serve as an inference study to understand factors contributing to a higher income. Intuitively, I would expect to see occupation, working hours per week and gender, with men earning more than women, to be the features with highest predictive values in this study.\n",
        "\n",
        "Data source: https://archive.ics.uci.edu/ml/datasets/adult - UCI Machine Learning Repository"
      ]
    },
    {
      "metadata": {
        "id": "fghO_5nkhxVR",
        "colab_type": "text"
      },
      "cell_type": "markdown",
      "source": [
        "### Data Dictionary\n",
        "\n",
        "One dependent variable Income, 14 independent variables \n",
        "\n",
        "Variable | Description | Type of Variable\n",
        "---| ---| ---\n",
        "Income | >50K, <=50K | categorical\n",
        "Age | Age | categorical\n",
        "Workclass | Private, Self-emp-not-inc, Self-emp-inc, Federal-gov, Local-gov, State-gov, Without-pay, Never-worked  | categorical\n",
        "Fnlwgt | sampling weight  | continuous\n",
        "Marital-status | Married-civ-spouse, Divorced, Never-married, Separated, Widowed, Married-spouse-absent, Married-AF-spouse | categorical\n",
        "Education | Highest level of education achieved | categorical\n",
        "Education-num | number of years in education, corresponds to education level | continuous\n",
        "Occupation | Occupation, 14 levels | categorical\n",
        "Relationship | Wife, Own-child, Husband, Not-in-family, Other-relative, Unmarried (describes relationship to householder) | categorical\n",
        "Race | White, Asian-Pac-Islander, Amer-Indian-Eskimo, Other, Black | categorical\n",
        "Sex | female, male | categorical\n",
        "Capital-gain| Income from capital assets | continuous\n",
        "Capital-loss| Loss from capital assets | continuous\n",
        "Hours-per-week| Hours worked per week | continuous\n",
        "Native-country| Country of origin | continuous\n",
        "\n",
        "The dataset and a more detailed description is available at https://archive.ics.uci.edu/ml/datasets/adult\n",
        "\n",
        "A detailed definition of Relationship feature used in US Census data is available here:\n",
        "http://webapp1.dlib.indiana.edu/virtual_disk_library/index.cgi/4291881/FID1867/acs_html/html/meth_doc/datadef/hhld_rel.htm"
      ]
    },
    {
      "metadata": {
        "id": "5P5SO9BEhxVS",
        "colab_type": "text"
      },
      "cell_type": "markdown",
      "source": [
        "### Links to related resources\n",
        "\n",
        "http://blog.pangyanhan.com/posts/2017-02-15-analysis-of-the-adult-data-set-from-uci-machine-learning-repository.ipynb.html, https://www.kaggle.com/wenruliu/adult-income-dataset, http://scg.sdsu.edu/dataset-adult_r/, https://www.valentinmihov.com/2015/04/17/adult-income-data-set/, https://www.knowbigdata.com/blog/predicting-income-level-analytics-casestudy-r, https://www.mis.nsysu.edu.tw/db-book/DMProject2007Spring/6/project.pdf, https://cseweb.ucsd.edu/~jmcauley/cse190/reports/sp15/048.pdf"
      ]
    },
    {
      "metadata": {
        "id": "IPM5FzZyhxVT",
        "colab_type": "text"
      },
      "cell_type": "markdown",
      "source": [
        "## Load data\n",
        "\n",
        "The dataset has been divided into train and test datasets with the following dimensions:\n",
        "\n",
        "48842 instances, mix of continuous and discrete (train=32561, test=16281)\n",
        "45222 if instances with unknown values are removed (train=30162, test=15060)\n",
        "\n",
        "For the purpose of data analysis and cleaning, both datasets will be merged into one dataframe."
      ]
    },
    {
      "metadata": {
        "id": "ALRQ7o59hxVT",
        "colab_type": "code",
        "colab": {
          "base_uri": "https://localhost:8080/",
          "height": 343
        },
        "outputId": "221c40d9-99c9-4536-d6cb-e1fca8638cc4"
      },
      "cell_type": "code",
      "source": [
        "df1 = pd.read_csv(\"adult.data\",names = [\"Age\", \"Workclass\", \"Fnlwgt\", \"Education\", \"Education-Num\", \"Marital-Status\", \"Occupation\",\"Relationship\", \"Race\", \"Sex\", \"Capital-Gain\", \"Capital-Loss\", \"Hours-per-week\", \"Native-country\", \"Income\"], skipinitialspace=True)\n",
        "df2 = pd.read_csv(\"adult.test\",names = [\"Age\", \"Workclass\", \"Fnlwgt\", \"Education\", \"Education-Num\", \"Marital-Status\", \"Occupation\",\"Relationship\", \"Race\", \"Sex\", \"Capital-Gain\", \"Capital-Loss\", \"Hours-per-week\", \"Native-country\", \"Income\"], skipinitialspace=True, header=1)\n",
        "df2['Income'] = df2.Income.replace({'<=50K.': '<=50K', '>50K.':'>50K'}) # replace full stops after 50K in test dataset\n",
        "\n",
        "frames = [df1, df2]\n",
        "df_raw = pd.concat(frames)\n",
        "df_raw.head(5)"
      ],
      "execution_count": 33,
      "outputs": [
        {
          "output_type": "execute_result",
          "data": {
            "text/html": [
              "<div>\n",
              "<style scoped>\n",
              "    .dataframe tbody tr th:only-of-type {\n",
              "        vertical-align: middle;\n",
              "    }\n",
              "\n",
              "    .dataframe tbody tr th {\n",
              "        vertical-align: top;\n",
              "    }\n",
              "\n",
              "    .dataframe thead th {\n",
              "        text-align: right;\n",
              "    }\n",
              "</style>\n",
              "<table border=\"1\" class=\"dataframe\">\n",
              "  <thead>\n",
              "    <tr style=\"text-align: right;\">\n",
              "      <th></th>\n",
              "      <th>Age</th>\n",
              "      <th>Workclass</th>\n",
              "      <th>Fnlwgt</th>\n",
              "      <th>Education</th>\n",
              "      <th>Education-Num</th>\n",
              "      <th>Marital-Status</th>\n",
              "      <th>Occupation</th>\n",
              "      <th>Relationship</th>\n",
              "      <th>Race</th>\n",
              "      <th>Sex</th>\n",
              "      <th>Capital-Gain</th>\n",
              "      <th>Capital-Loss</th>\n",
              "      <th>Hours-per-week</th>\n",
              "      <th>Native-country</th>\n",
              "      <th>Income</th>\n",
              "    </tr>\n",
              "  </thead>\n",
              "  <tbody>\n",
              "    <tr>\n",
              "      <th>0</th>\n",
              "      <td>39</td>\n",
              "      <td>State-gov</td>\n",
              "      <td>77516</td>\n",
              "      <td>Bachelors</td>\n",
              "      <td>13</td>\n",
              "      <td>Never-married</td>\n",
              "      <td>Adm-clerical</td>\n",
              "      <td>Not-in-family</td>\n",
              "      <td>White</td>\n",
              "      <td>Male</td>\n",
              "      <td>2174</td>\n",
              "      <td>0</td>\n",
              "      <td>40</td>\n",
              "      <td>United-States</td>\n",
              "      <td>&lt;=50K</td>\n",
              "    </tr>\n",
              "    <tr>\n",
              "      <th>1</th>\n",
              "      <td>50</td>\n",
              "      <td>Self-emp-not-inc</td>\n",
              "      <td>83311</td>\n",
              "      <td>Bachelors</td>\n",
              "      <td>13</td>\n",
              "      <td>Married-civ-spouse</td>\n",
              "      <td>Exec-managerial</td>\n",
              "      <td>Husband</td>\n",
              "      <td>White</td>\n",
              "      <td>Male</td>\n",
              "      <td>0</td>\n",
              "      <td>0</td>\n",
              "      <td>13</td>\n",
              "      <td>United-States</td>\n",
              "      <td>&lt;=50K</td>\n",
              "    </tr>\n",
              "    <tr>\n",
              "      <th>2</th>\n",
              "      <td>38</td>\n",
              "      <td>Private</td>\n",
              "      <td>215646</td>\n",
              "      <td>HS-grad</td>\n",
              "      <td>9</td>\n",
              "      <td>Divorced</td>\n",
              "      <td>Handlers-cleaners</td>\n",
              "      <td>Not-in-family</td>\n",
              "      <td>White</td>\n",
              "      <td>Male</td>\n",
              "      <td>0</td>\n",
              "      <td>0</td>\n",
              "      <td>40</td>\n",
              "      <td>United-States</td>\n",
              "      <td>&lt;=50K</td>\n",
              "    </tr>\n",
              "    <tr>\n",
              "      <th>3</th>\n",
              "      <td>53</td>\n",
              "      <td>Private</td>\n",
              "      <td>234721</td>\n",
              "      <td>11th</td>\n",
              "      <td>7</td>\n",
              "      <td>Married-civ-spouse</td>\n",
              "      <td>Handlers-cleaners</td>\n",
              "      <td>Husband</td>\n",
              "      <td>Black</td>\n",
              "      <td>Male</td>\n",
              "      <td>0</td>\n",
              "      <td>0</td>\n",
              "      <td>40</td>\n",
              "      <td>United-States</td>\n",
              "      <td>&lt;=50K</td>\n",
              "    </tr>\n",
              "    <tr>\n",
              "      <th>4</th>\n",
              "      <td>28</td>\n",
              "      <td>Private</td>\n",
              "      <td>338409</td>\n",
              "      <td>Bachelors</td>\n",
              "      <td>13</td>\n",
              "      <td>Married-civ-spouse</td>\n",
              "      <td>Prof-specialty</td>\n",
              "      <td>Wife</td>\n",
              "      <td>Black</td>\n",
              "      <td>Female</td>\n",
              "      <td>0</td>\n",
              "      <td>0</td>\n",
              "      <td>40</td>\n",
              "      <td>Cuba</td>\n",
              "      <td>&lt;=50K</td>\n",
              "    </tr>\n",
              "  </tbody>\n",
              "</table>\n",
              "</div>"
            ],
            "text/plain": [
              "   Age         Workclass  Fnlwgt  Education  Education-Num  \\\n",
              "0   39         State-gov   77516  Bachelors             13   \n",
              "1   50  Self-emp-not-inc   83311  Bachelors             13   \n",
              "2   38           Private  215646    HS-grad              9   \n",
              "3   53           Private  234721       11th              7   \n",
              "4   28           Private  338409  Bachelors             13   \n",
              "\n",
              "       Marital-Status         Occupation   Relationship   Race     Sex  \\\n",
              "0       Never-married       Adm-clerical  Not-in-family  White    Male   \n",
              "1  Married-civ-spouse    Exec-managerial        Husband  White    Male   \n",
              "2            Divorced  Handlers-cleaners  Not-in-family  White    Male   \n",
              "3  Married-civ-spouse  Handlers-cleaners        Husband  Black    Male   \n",
              "4  Married-civ-spouse     Prof-specialty           Wife  Black  Female   \n",
              "\n",
              "   Capital-Gain  Capital-Loss  Hours-per-week Native-country Income  \n",
              "0          2174             0              40  United-States  <=50K  \n",
              "1             0             0              13  United-States  <=50K  \n",
              "2             0             0              40  United-States  <=50K  \n",
              "3             0             0              40  United-States  <=50K  \n",
              "4             0             0              40           Cuba  <=50K  "
            ]
          },
          "metadata": {
            "tags": []
          },
          "execution_count": 33
        }
      ]
    },
    {
      "metadata": {
        "id": "375o0suahxVY",
        "colab_type": "text"
      },
      "cell_type": "markdown",
      "source": [
        "Check that the shape of the dataframe matches dataset description. The number is one lower than reported above due to the removal of a header row in test dataset"
      ]
    },
    {
      "metadata": {
        "id": "c_HZ_hZQhxVZ",
        "colab_type": "code",
        "colab": {
          "base_uri": "https://localhost:8080/",
          "height": 34
        },
        "outputId": "e1e86e74-f672-4576-c79d-356453dd0ca1"
      },
      "cell_type": "code",
      "source": [
        "df_raw.shape"
      ],
      "execution_count": 34,
      "outputs": [
        {
          "output_type": "execute_result",
          "data": {
            "text/plain": [
              "(48841, 15)"
            ]
          },
          "metadata": {
            "tags": []
          },
          "execution_count": 34
        }
      ]
    },
    {
      "metadata": {
        "id": "VTaIxA4qhxVc",
        "colab_type": "text"
      },
      "cell_type": "markdown",
      "source": [
        "## Check for missing data"
      ]
    },
    {
      "metadata": {
        "id": "SBSuPKnMhxVd",
        "colab_type": "text"
      },
      "cell_type": "markdown",
      "source": [
        "According to the notes available at UCI Machine Learning Repository, the original datasets had missing values labeled with a question mark (?). Replacing these with NaN shows the missing values are spread out over three columns, Workclass, Occupation and Native-country."
      ]
    },
    {
      "metadata": {
        "id": "21o2caJ4hxVd",
        "colab_type": "code",
        "colab": {
          "base_uri": "https://localhost:8080/",
          "height": 289
        },
        "outputId": "5db7f938-ef12-4107-ca4d-f958a39db3cc"
      },
      "cell_type": "code",
      "source": [
        "df_missing = df_raw.replace('?', np.nan)\n",
        "df_missing.isnull().sum()"
      ],
      "execution_count": 35,
      "outputs": [
        {
          "output_type": "execute_result",
          "data": {
            "text/plain": [
              "Age                  0\n",
              "Workclass         2799\n",
              "Fnlwgt               0\n",
              "Education            0\n",
              "Education-Num        0\n",
              "Marital-Status       0\n",
              "Occupation        2809\n",
              "Relationship         0\n",
              "Race                 0\n",
              "Sex                  0\n",
              "Capital-Gain         0\n",
              "Capital-Loss         0\n",
              "Hours-per-week       0\n",
              "Native-country     857\n",
              "Income               0\n",
              "dtype: int64"
            ]
          },
          "metadata": {
            "tags": []
          },
          "execution_count": 35
        }
      ]
    },
    {
      "metadata": {
        "id": "Z84u6dkQhxVg",
        "colab_type": "text"
      },
      "cell_type": "markdown",
      "source": [
        "The test results documented were done after removing all missing values, so I'm removing these as well."
      ]
    },
    {
      "metadata": {
        "id": "jJPo6OHkhxVh",
        "colab_type": "code",
        "colab": {
          "base_uri": "https://localhost:8080/",
          "height": 34
        },
        "outputId": "884c7e55-41c9-45a2-dcc5-1e1dfd5eee95"
      },
      "cell_type": "code",
      "source": [
        "df_cleaned = df_missing.dropna(axis=0, how='any')\n",
        "df_cleaned.shape"
      ],
      "execution_count": 36,
      "outputs": [
        {
          "output_type": "execute_result",
          "data": {
            "text/plain": [
              "(45221, 15)"
            ]
          },
          "metadata": {
            "tags": []
          },
          "execution_count": 36
        }
      ]
    },
    {
      "metadata": {
        "id": "aoIdtVazhxVj",
        "colab_type": "text"
      },
      "cell_type": "markdown",
      "source": [
        "## Remove features"
      ]
    },
    {
      "metadata": {
        "id": "PiTCtdxnhxVk",
        "colab_type": "text"
      },
      "cell_type": "markdown",
      "source": [
        "The feature 'fnlwgt' is a sampling weight assigned to each person to describe their socio-economic characteristics. The dataset description states that while people who have similar characteristics should in theory have similar weights, the sample is actually a collection of state samples each with its own probability of selection, so this statement only applies within state. As this feature only describes the data collection process I will exclude it from this analysis."
      ]
    },
    {
      "metadata": {
        "id": "PIZaZqokhxVl",
        "colab_type": "code",
        "colab": {}
      },
      "cell_type": "code",
      "source": [
        "df_cleaned = df_cleaned.drop(['Fnlwgt'], axis=1)"
      ],
      "execution_count": 0,
      "outputs": []
    },
    {
      "metadata": {
        "id": "5JEpqnDchxVo",
        "colab_type": "code",
        "colab": {
          "base_uri": "https://localhost:8080/",
          "height": 85
        },
        "outputId": "294809ad-82ff-4dcc-d6eb-7d3ef23e85cb"
      },
      "cell_type": "code",
      "source": [
        "df_cleaned.columns # Confirming it's gone"
      ],
      "execution_count": 38,
      "outputs": [
        {
          "output_type": "execute_result",
          "data": {
            "text/plain": [
              "Index(['Age', 'Workclass', 'Education', 'Education-Num', 'Marital-Status',\n",
              "       'Occupation', 'Relationship', 'Race', 'Sex', 'Capital-Gain',\n",
              "       'Capital-Loss', 'Hours-per-week', 'Native-country', 'Income'],\n",
              "      dtype='object')"
            ]
          },
          "metadata": {
            "tags": []
          },
          "execution_count": 38
        }
      ]
    },
    {
      "metadata": {
        "id": "SSJDy-PbhxVr",
        "colab_type": "text"
      },
      "cell_type": "markdown",
      "source": [
        "## Explore continuous variables"
      ]
    },
    {
      "metadata": {
        "id": "7LGRwCrhhxVr",
        "colab_type": "code",
        "colab": {
          "base_uri": "https://localhost:8080/",
          "height": 297
        },
        "outputId": "42570207-f211-4773-80ec-272f02ed9ca0"
      },
      "cell_type": "code",
      "source": [
        "df_cleaned.describe()"
      ],
      "execution_count": 39,
      "outputs": [
        {
          "output_type": "execute_result",
          "data": {
            "text/html": [
              "<div>\n",
              "<style scoped>\n",
              "    .dataframe tbody tr th:only-of-type {\n",
              "        vertical-align: middle;\n",
              "    }\n",
              "\n",
              "    .dataframe tbody tr th {\n",
              "        vertical-align: top;\n",
              "    }\n",
              "\n",
              "    .dataframe thead th {\n",
              "        text-align: right;\n",
              "    }\n",
              "</style>\n",
              "<table border=\"1\" class=\"dataframe\">\n",
              "  <thead>\n",
              "    <tr style=\"text-align: right;\">\n",
              "      <th></th>\n",
              "      <th>Age</th>\n",
              "      <th>Education-Num</th>\n",
              "      <th>Capital-Gain</th>\n",
              "      <th>Capital-Loss</th>\n",
              "      <th>Hours-per-week</th>\n",
              "    </tr>\n",
              "  </thead>\n",
              "  <tbody>\n",
              "    <tr>\n",
              "      <th>count</th>\n",
              "      <td>45221.000000</td>\n",
              "      <td>45221.000000</td>\n",
              "      <td>45221.000000</td>\n",
              "      <td>45221.000000</td>\n",
              "      <td>45221.000000</td>\n",
              "    </tr>\n",
              "    <tr>\n",
              "      <th>mean</th>\n",
              "      <td>38.548241</td>\n",
              "      <td>10.118529</td>\n",
              "      <td>1101.454700</td>\n",
              "      <td>88.597377</td>\n",
              "      <td>40.938038</td>\n",
              "    </tr>\n",
              "    <tr>\n",
              "      <th>std</th>\n",
              "      <td>13.217863</td>\n",
              "      <td>2.552867</td>\n",
              "      <td>7506.511295</td>\n",
              "      <td>404.960355</td>\n",
              "      <td>12.007640</td>\n",
              "    </tr>\n",
              "    <tr>\n",
              "      <th>min</th>\n",
              "      <td>17.000000</td>\n",
              "      <td>1.000000</td>\n",
              "      <td>0.000000</td>\n",
              "      <td>0.000000</td>\n",
              "      <td>1.000000</td>\n",
              "    </tr>\n",
              "    <tr>\n",
              "      <th>25%</th>\n",
              "      <td>28.000000</td>\n",
              "      <td>9.000000</td>\n",
              "      <td>0.000000</td>\n",
              "      <td>0.000000</td>\n",
              "      <td>40.000000</td>\n",
              "    </tr>\n",
              "    <tr>\n",
              "      <th>50%</th>\n",
              "      <td>37.000000</td>\n",
              "      <td>10.000000</td>\n",
              "      <td>0.000000</td>\n",
              "      <td>0.000000</td>\n",
              "      <td>40.000000</td>\n",
              "    </tr>\n",
              "    <tr>\n",
              "      <th>75%</th>\n",
              "      <td>47.000000</td>\n",
              "      <td>13.000000</td>\n",
              "      <td>0.000000</td>\n",
              "      <td>0.000000</td>\n",
              "      <td>45.000000</td>\n",
              "    </tr>\n",
              "    <tr>\n",
              "      <th>max</th>\n",
              "      <td>90.000000</td>\n",
              "      <td>16.000000</td>\n",
              "      <td>99999.000000</td>\n",
              "      <td>4356.000000</td>\n",
              "      <td>99.000000</td>\n",
              "    </tr>\n",
              "  </tbody>\n",
              "</table>\n",
              "</div>"
            ],
            "text/plain": [
              "                Age  Education-Num  Capital-Gain  Capital-Loss  Hours-per-week\n",
              "count  45221.000000   45221.000000  45221.000000  45221.000000    45221.000000\n",
              "mean      38.548241      10.118529   1101.454700     88.597377       40.938038\n",
              "std       13.217863       2.552867   7506.511295    404.960355       12.007640\n",
              "min       17.000000       1.000000      0.000000      0.000000        1.000000\n",
              "25%       28.000000       9.000000      0.000000      0.000000       40.000000\n",
              "50%       37.000000      10.000000      0.000000      0.000000       40.000000\n",
              "75%       47.000000      13.000000      0.000000      0.000000       45.000000\n",
              "max       90.000000      16.000000  99999.000000   4356.000000       99.000000"
            ]
          },
          "metadata": {
            "tags": []
          },
          "execution_count": 39
        }
      ]
    },
    {
      "metadata": {
        "id": "WKJIxCfghxVu",
        "colab_type": "code",
        "colab": {
          "base_uri": "https://localhost:8080/",
          "height": 879
        },
        "outputId": "a6542cbb-05a5-4dc4-a54f-050fd519dd46"
      },
      "cell_type": "code",
      "source": [
        "df_cleaned.hist(grid=True, figsize = (10,15))\n",
        "pl.show()"
      ],
      "execution_count": 40,
      "outputs": [
        {
          "output_type": "display_data",
          "data": {
            "image/png": "[encoded data removed]",
            "text/plain": [
              "<Figure size 720x1080 with 6 Axes>"
            ]
          },
          "metadata": {
            "tags": []
          }
        }
      ]
    },
    {
      "metadata": {
        "id": "G3-y-RC0hxVw",
        "colab_type": "text"
      },
      "cell_type": "markdown",
      "source": [
        "Hours-per-week has a range going up to 99, which could be a mistake in data collection or represent an unknown value. However, the histogram reveals that the values in the range go up to 99 continuously, making it more likely that these are valid responses rather than mistakes.\n",
        "\n",
        "The highest number of 99999 in Capital-Gain column looks like a potentially unknown value, especially as there are no values close to it. However, I will not be removing it as I can't confirm this from anywhere.\n",
        "\n",
        "The histograms also reveal that a significant majority of individuals in the sample do not have any capital gains or losses.\n",
        "\n",
        "A large majority of individuals report working 40 hours a week which sounds accurate as per cultural norms."
      ]
    },
    {
      "metadata": {
        "id": "5h4H91vChxVx",
        "colab_type": "text"
      },
      "cell_type": "markdown",
      "source": [
        "Plotting age, hours-per-week and years of education against income, all look predictive of a higher salary."
      ]
    },
    {
      "metadata": {
        "id": "KVpF5xovhxVy",
        "colab_type": "code",
        "colab": {
          "base_uri": "https://localhost:8080/",
          "height": 300
        },
        "outputId": "2157b3da-bb18-4537-ae2d-a175388d51e8"
      },
      "cell_type": "code",
      "source": [
        "sns.boxplot(x='Income', y='Age', data=df_cleaned)"
      ],
      "execution_count": 41,
      "outputs": [
        {
          "output_type": "execute_result",
          "data": {
            "text/plain": [
              "<matplotlib.axes._subplots.AxesSubplot at 0x7f93e6854a20>"
            ]
          },
          "metadata": {
            "tags": []
          },
          "execution_count": 41
        },
        {
          "output_type": "display_data",
          "data": {
            "image/png": "[encoded data removed]",
            "text/plain": [
              "<Figure size 432x288 with 1 Axes>"
            ]
          },
          "metadata": {
            "tags": []
          }
        }
      ]
    },
    {
      "metadata": {
        "id": "jciqDUehhxWA",
        "colab_type": "code",
        "colab": {
          "base_uri": "https://localhost:8080/",
          "height": 300
        },
        "outputId": "bb3bebfd-d4e9-4b9a-e643-a35a8cacf7aa"
      },
      "cell_type": "code",
      "source": [
        "sns.boxplot(x='Income', y='Hours-per-week', data=df_cleaned)"
      ],
      "execution_count": 42,
      "outputs": [
        {
          "output_type": "execute_result",
          "data": {
            "text/plain": [
              "<matplotlib.axes._subplots.AxesSubplot at 0x7f93e6713f28>"
            ]
          },
          "metadata": {
            "tags": []
          },
          "execution_count": 42
        },
        {
          "output_type": "display_data",
          "data": {
            "image/png": "[encoded data removed]",
            "text/plain": [
              "<Figure size 432x288 with 1 Axes>"
            ]
          },
          "metadata": {
            "tags": []
          }
        }
      ]
    },
    {
      "metadata": {
        "id": "qhwEVBsOhxWG",
        "colab_type": "code",
        "colab": {
          "base_uri": "https://localhost:8080/",
          "height": 300
        },
        "outputId": "948b4003-e40f-4700-84c7-156486e92034"
      },
      "cell_type": "code",
      "source": [
        "sns.boxplot(x='Income', y='Education-Num', data=df_cleaned)"
      ],
      "execution_count": 43,
      "outputs": [
        {
          "output_type": "execute_result",
          "data": {
            "text/plain": [
              "<matplotlib.axes._subplots.AxesSubplot at 0x7f93e66944a8>"
            ]
          },
          "metadata": {
            "tags": []
          },
          "execution_count": 43
        },
        {
          "output_type": "display_data",
          "data": {
            "image/png": "[encoded data removed]",
            "text/plain": [
              "<Figure size 432x288 with 1 Axes>"
            ]
          },
          "metadata": {
            "tags": []
          }
        }
      ]
    },
    {
      "metadata": {
        "id": "BiKqkIm4hxWR",
        "colab_type": "text"
      },
      "cell_type": "markdown",
      "source": [
        "## Check frequency of categorical variables"
      ]
    },
    {
      "metadata": {
        "id": "pGYr_-QOhxWS",
        "colab_type": "code",
        "colab": {
          "base_uri": "https://localhost:8080/",
          "height": 2000
        },
        "outputId": "ae2dd2aa-73b6-48fd-f098-97903602e56c"
      },
      "cell_type": "code",
      "source": [
        "pd.crosstab(index=df_cleaned[\"Capital-Gain\"],\n",
        "                      columns=\"count\")"
      ],
      "execution_count": 44,
      "outputs": [
        {
          "output_type": "execute_result",
          "data": {
            "text/html": [
              "<div>\n",
              "<style scoped>\n",
              "    .dataframe tbody tr th:only-of-type {\n",
              "        vertical-align: middle;\n",
              "    }\n",
              "\n",
              "    .dataframe tbody tr th {\n",
              "        vertical-align: top;\n",
              "    }\n",
              "\n",
              "    .dataframe thead th {\n",
              "        text-align: right;\n",
              "    }\n",
              "</style>\n",
              "<table border=\"1\" class=\"dataframe\">\n",
              "  <thead>\n",
              "    <tr style=\"text-align: right;\">\n",
              "      <th>col_0</th>\n",
              "      <th>count</th>\n",
              "    </tr>\n",
              "    <tr>\n",
              "      <th>Capital-Gain</th>\n",
              "      <th></th>\n",
              "    </tr>\n",
              "  </thead>\n",
              "  <tbody>\n",
              "    <tr>\n",
              "      <th>0</th>\n",
              "      <td>41431</td>\n",
              "    </tr>\n",
              "    <tr>\n",
              "      <th>114</th>\n",
              "      <td>8</td>\n",
              "    </tr>\n",
              "    <tr>\n",
              "      <th>401</th>\n",
              "      <td>2</td>\n",
              "    </tr>\n",
              "    <tr>\n",
              "      <th>594</th>\n",
              "      <td>42</td>\n",
              "    </tr>\n",
              "    <tr>\n",
              "      <th>914</th>\n",
              "      <td>10</td>\n",
              "    </tr>\n",
              "    <tr>\n",
              "      <th>991</th>\n",
              "      <td>4</td>\n",
              "    </tr>\n",
              "    <tr>\n",
              "      <th>1055</th>\n",
              "      <td>31</td>\n",
              "    </tr>\n",
              "    <tr>\n",
              "      <th>1086</th>\n",
              "      <td>5</td>\n",
              "    </tr>\n",
              "    <tr>\n",
              "      <th>1151</th>\n",
              "      <td>13</td>\n",
              "    </tr>\n",
              "    <tr>\n",
              "      <th>1173</th>\n",
              "      <td>2</td>\n",
              "    </tr>\n",
              "    <tr>\n",
              "      <th>1264</th>\n",
              "      <td>2</td>\n",
              "    </tr>\n",
              "    <tr>\n",
              "      <th>1409</th>\n",
              "      <td>5</td>\n",
              "    </tr>\n",
              "    <tr>\n",
              "      <th>1424</th>\n",
              "      <td>4</td>\n",
              "    </tr>\n",
              "    <tr>\n",
              "      <th>1455</th>\n",
              "      <td>3</td>\n",
              "    </tr>\n",
              "    <tr>\n",
              "      <th>1471</th>\n",
              "      <td>9</td>\n",
              "    </tr>\n",
              "    <tr>\n",
              "      <th>1506</th>\n",
              "      <td>23</td>\n",
              "    </tr>\n",
              "    <tr>\n",
              "      <th>1639</th>\n",
              "      <td>1</td>\n",
              "    </tr>\n",
              "    <tr>\n",
              "      <th>1731</th>\n",
              "      <td>1</td>\n",
              "    </tr>\n",
              "    <tr>\n",
              "      <th>1797</th>\n",
              "      <td>8</td>\n",
              "    </tr>\n",
              "    <tr>\n",
              "      <th>1831</th>\n",
              "      <td>9</td>\n",
              "    </tr>\n",
              "    <tr>\n",
              "      <th>1848</th>\n",
              "      <td>8</td>\n",
              "    </tr>\n",
              "    <tr>\n",
              "      <th>2009</th>\n",
              "      <td>2</td>\n",
              "    </tr>\n",
              "    <tr>\n",
              "      <th>2036</th>\n",
              "      <td>5</td>\n",
              "    </tr>\n",
              "    <tr>\n",
              "      <th>2050</th>\n",
              "      <td>3</td>\n",
              "    </tr>\n",
              "    <tr>\n",
              "      <th>2062</th>\n",
              "      <td>3</td>\n",
              "    </tr>\n",
              "    <tr>\n",
              "      <th>2105</th>\n",
              "      <td>11</td>\n",
              "    </tr>\n",
              "    <tr>\n",
              "      <th>2174</th>\n",
              "      <td>72</td>\n",
              "    </tr>\n",
              "    <tr>\n",
              "      <th>2176</th>\n",
              "      <td>28</td>\n",
              "    </tr>\n",
              "    <tr>\n",
              "      <th>2202</th>\n",
              "      <td>27</td>\n",
              "    </tr>\n",
              "    <tr>\n",
              "      <th>2228</th>\n",
              "      <td>3</td>\n",
              "    </tr>\n",
              "    <tr>\n",
              "      <th>...</th>\n",
              "      <td>...</td>\n",
              "    </tr>\n",
              "    <tr>\n",
              "      <th>6849</th>\n",
              "      <td>41</td>\n",
              "    </tr>\n",
              "    <tr>\n",
              "      <th>7262</th>\n",
              "      <td>1</td>\n",
              "    </tr>\n",
              "    <tr>\n",
              "      <th>7298</th>\n",
              "      <td>351</td>\n",
              "    </tr>\n",
              "    <tr>\n",
              "      <th>7430</th>\n",
              "      <td>14</td>\n",
              "    </tr>\n",
              "    <tr>\n",
              "      <th>7443</th>\n",
              "      <td>7</td>\n",
              "    </tr>\n",
              "    <tr>\n",
              "      <th>7688</th>\n",
              "      <td>391</td>\n",
              "    </tr>\n",
              "    <tr>\n",
              "      <th>7896</th>\n",
              "      <td>3</td>\n",
              "    </tr>\n",
              "    <tr>\n",
              "      <th>7978</th>\n",
              "      <td>2</td>\n",
              "    </tr>\n",
              "    <tr>\n",
              "      <th>8614</th>\n",
              "      <td>78</td>\n",
              "    </tr>\n",
              "    <tr>\n",
              "      <th>9386</th>\n",
              "      <td>23</td>\n",
              "    </tr>\n",
              "    <tr>\n",
              "      <th>9562</th>\n",
              "      <td>5</td>\n",
              "    </tr>\n",
              "    <tr>\n",
              "      <th>10520</th>\n",
              "      <td>64</td>\n",
              "    </tr>\n",
              "    <tr>\n",
              "      <th>10566</th>\n",
              "      <td>8</td>\n",
              "    </tr>\n",
              "    <tr>\n",
              "      <th>10605</th>\n",
              "      <td>16</td>\n",
              "    </tr>\n",
              "    <tr>\n",
              "      <th>11678</th>\n",
              "      <td>4</td>\n",
              "    </tr>\n",
              "    <tr>\n",
              "      <th>13550</th>\n",
              "      <td>40</td>\n",
              "    </tr>\n",
              "    <tr>\n",
              "      <th>14084</th>\n",
              "      <td>47</td>\n",
              "    </tr>\n",
              "    <tr>\n",
              "      <th>14344</th>\n",
              "      <td>34</td>\n",
              "    </tr>\n",
              "    <tr>\n",
              "      <th>15020</th>\n",
              "      <td>10</td>\n",
              "    </tr>\n",
              "    <tr>\n",
              "      <th>15024</th>\n",
              "      <td>498</td>\n",
              "    </tr>\n",
              "    <tr>\n",
              "      <th>15831</th>\n",
              "      <td>8</td>\n",
              "    </tr>\n",
              "    <tr>\n",
              "      <th>18481</th>\n",
              "      <td>2</td>\n",
              "    </tr>\n",
              "    <tr>\n",
              "      <th>20051</th>\n",
              "      <td>44</td>\n",
              "    </tr>\n",
              "    <tr>\n",
              "      <th>22040</th>\n",
              "      <td>1</td>\n",
              "    </tr>\n",
              "    <tr>\n",
              "      <th>25124</th>\n",
              "      <td>4</td>\n",
              "    </tr>\n",
              "    <tr>\n",
              "      <th>25236</th>\n",
              "      <td>14</td>\n",
              "    </tr>\n",
              "    <tr>\n",
              "      <th>27828</th>\n",
              "      <td>56</td>\n",
              "    </tr>\n",
              "    <tr>\n",
              "      <th>34095</th>\n",
              "      <td>4</td>\n",
              "    </tr>\n",
              "    <tr>\n",
              "      <th>41310</th>\n",
              "      <td>3</td>\n",
              "    </tr>\n",
              "    <tr>\n",
              "      <th>99999</th>\n",
              "      <td>229</td>\n",
              "    </tr>\n",
              "  </tbody>\n",
              "</table>\n",
              "<p>121 rows × 1 columns</p>\n",
              "</div>"
            ],
            "text/plain": [
              "col_0         count\n",
              "Capital-Gain       \n",
              "0             41431\n",
              "114               8\n",
              "401               2\n",
              "594              42\n",
              "914              10\n",
              "991               4\n",
              "1055             31\n",
              "1086              5\n",
              "1151             13\n",
              "1173              2\n",
              "1264              2\n",
              "1409              5\n",
              "1424              4\n",
              "1455              3\n",
              "1471              9\n",
              "1506             23\n",
              "1639              1\n",
              "1731              1\n",
              "1797              8\n",
              "1831              9\n",
              "1848              8\n",
              "2009              2\n",
              "2036              5\n",
              "2050              3\n",
              "2062              3\n",
              "2105             11\n",
              "2174             72\n",
              "2176             28\n",
              "2202             27\n",
              "2228              3\n",
              "...             ...\n",
              "6849             41\n",
              "7262              1\n",
              "7298            351\n",
              "7430             14\n",
              "7443              7\n",
              "7688            391\n",
              "7896              3\n",
              "7978              2\n",
              "8614             78\n",
              "9386             23\n",
              "9562              5\n",
              "10520            64\n",
              "10566             8\n",
              "10605            16\n",
              "11678             4\n",
              "13550            40\n",
              "14084            47\n",
              "14344            34\n",
              "15020            10\n",
              "15024           498\n",
              "15831             8\n",
              "18481             2\n",
              "20051            44\n",
              "22040             1\n",
              "25124             4\n",
              "25236            14\n",
              "27828            56\n",
              "34095             4\n",
              "41310             3\n",
              "99999           229\n",
              "\n",
              "[121 rows x 1 columns]"
            ]
          },
          "metadata": {
            "tags": []
          },
          "execution_count": 44
        }
      ]
    },
    {
      "metadata": {
        "id": "-9QizJYGhxWZ",
        "colab_type": "text"
      },
      "cell_type": "markdown",
      "source": [
        "Target classes are imbalanced, this will have to be handled before moving onto modelling"
      ]
    },
    {
      "metadata": {
        "id": "1jcY5UJ2hxWb",
        "colab_type": "code",
        "colab": {
          "base_uri": "https://localhost:8080/",
          "height": 297
        },
        "outputId": "8caaf333-2b3c-4800-b234-a953378574f5"
      },
      "cell_type": "code",
      "source": [
        "pd.crosstab(index=df_cleaned[\"Workclass\"],\n",
        "                      columns=\"count\")"
      ],
      "execution_count": 45,
      "outputs": [
        {
          "output_type": "execute_result",
          "data": {
            "text/html": [
              "<div>\n",
              "<style scoped>\n",
              "    .dataframe tbody tr th:only-of-type {\n",
              "        vertical-align: middle;\n",
              "    }\n",
              "\n",
              "    .dataframe tbody tr th {\n",
              "        vertical-align: top;\n",
              "    }\n",
              "\n",
              "    .dataframe thead th {\n",
              "        text-align: right;\n",
              "    }\n",
              "</style>\n",
              "<table border=\"1\" class=\"dataframe\">\n",
              "  <thead>\n",
              "    <tr style=\"text-align: right;\">\n",
              "      <th>col_0</th>\n",
              "      <th>count</th>\n",
              "    </tr>\n",
              "    <tr>\n",
              "      <th>Workclass</th>\n",
              "      <th></th>\n",
              "    </tr>\n",
              "  </thead>\n",
              "  <tbody>\n",
              "    <tr>\n",
              "      <th>Federal-gov</th>\n",
              "      <td>1406</td>\n",
              "    </tr>\n",
              "    <tr>\n",
              "      <th>Local-gov</th>\n",
              "      <td>3100</td>\n",
              "    </tr>\n",
              "    <tr>\n",
              "      <th>Private</th>\n",
              "      <td>33306</td>\n",
              "    </tr>\n",
              "    <tr>\n",
              "      <th>Self-emp-inc</th>\n",
              "      <td>1646</td>\n",
              "    </tr>\n",
              "    <tr>\n",
              "      <th>Self-emp-not-inc</th>\n",
              "      <td>3796</td>\n",
              "    </tr>\n",
              "    <tr>\n",
              "      <th>State-gov</th>\n",
              "      <td>1946</td>\n",
              "    </tr>\n",
              "    <tr>\n",
              "      <th>Without-pay</th>\n",
              "      <td>21</td>\n",
              "    </tr>\n",
              "  </tbody>\n",
              "</table>\n",
              "</div>"
            ],
            "text/plain": [
              "col_0             count\n",
              "Workclass              \n",
              "Federal-gov        1406\n",
              "Local-gov          3100\n",
              "Private           33306\n",
              "Self-emp-inc       1646\n",
              "Self-emp-not-inc   3796\n",
              "State-gov          1946\n",
              "Without-pay          21"
            ]
          },
          "metadata": {
            "tags": []
          },
          "execution_count": 45
        }
      ]
    },
    {
      "metadata": {
        "id": "pZouSoGQhxWi",
        "colab_type": "text"
      },
      "cell_type": "markdown",
      "source": [
        "Workclass variable will be collapsed into three groups \"Public\", \"Private\" and \"Self-emp\". Without-pay will be dropped due to the low number of occurrences."
      ]
    },
    {
      "metadata": {
        "id": "LapN6oGxhxWk",
        "colab_type": "code",
        "colab": {
          "base_uri": "https://localhost:8080/",
          "height": 34
        },
        "outputId": "5b16b35a-c08c-4d4a-bd10-5d73371a9fb8"
      },
      "cell_type": "code",
      "source": [
        "# drop rows where Workclass equals Without-pay\n",
        "\n",
        "df_cleaned = df_cleaned[df_cleaned.Workclass != 'Without-pay']\n",
        "df_cleaned.shape"
      ],
      "execution_count": 46,
      "outputs": [
        {
          "output_type": "execute_result",
          "data": {
            "text/plain": [
              "(45200, 14)"
            ]
          },
          "metadata": {
            "tags": []
          },
          "execution_count": 46
        }
      ]
    },
    {
      "metadata": {
        "id": "J1P-9McNhxWo",
        "colab_type": "code",
        "colab": {
          "base_uri": "https://localhost:8080/",
          "height": 1351
        },
        "outputId": "fae1adbd-3e3c-4382-d1f7-3118f4048802"
      },
      "cell_type": "code",
      "source": [
        "pd.crosstab(index=df_cleaned[\"Native-country\"],\n",
        "                      columns=\"count\")"
      ],
      "execution_count": 47,
      "outputs": [
        {
          "output_type": "execute_result",
          "data": {
            "text/html": [
              "<div>\n",
              "<style scoped>\n",
              "    .dataframe tbody tr th:only-of-type {\n",
              "        vertical-align: middle;\n",
              "    }\n",
              "\n",
              "    .dataframe tbody tr th {\n",
              "        vertical-align: top;\n",
              "    }\n",
              "\n",
              "    .dataframe thead th {\n",
              "        text-align: right;\n",
              "    }\n",
              "</style>\n",
              "<table border=\"1\" class=\"dataframe\">\n",
              "  <thead>\n",
              "    <tr style=\"text-align: right;\">\n",
              "      <th>col_0</th>\n",
              "      <th>count</th>\n",
              "    </tr>\n",
              "    <tr>\n",
              "      <th>Native-country</th>\n",
              "      <th></th>\n",
              "    </tr>\n",
              "  </thead>\n",
              "  <tbody>\n",
              "    <tr>\n",
              "      <th>Cambodia</th>\n",
              "      <td>26</td>\n",
              "    </tr>\n",
              "    <tr>\n",
              "      <th>Canada</th>\n",
              "      <td>163</td>\n",
              "    </tr>\n",
              "    <tr>\n",
              "      <th>China</th>\n",
              "      <td>113</td>\n",
              "    </tr>\n",
              "    <tr>\n",
              "      <th>Columbia</th>\n",
              "      <td>82</td>\n",
              "    </tr>\n",
              "    <tr>\n",
              "      <th>Cuba</th>\n",
              "      <td>133</td>\n",
              "    </tr>\n",
              "    <tr>\n",
              "      <th>Dominican-Republic</th>\n",
              "      <td>97</td>\n",
              "    </tr>\n",
              "    <tr>\n",
              "      <th>Ecuador</th>\n",
              "      <td>43</td>\n",
              "    </tr>\n",
              "    <tr>\n",
              "      <th>El-Salvador</th>\n",
              "      <td>147</td>\n",
              "    </tr>\n",
              "    <tr>\n",
              "      <th>England</th>\n",
              "      <td>119</td>\n",
              "    </tr>\n",
              "    <tr>\n",
              "      <th>France</th>\n",
              "      <td>36</td>\n",
              "    </tr>\n",
              "    <tr>\n",
              "      <th>Germany</th>\n",
              "      <td>193</td>\n",
              "    </tr>\n",
              "    <tr>\n",
              "      <th>Greece</th>\n",
              "      <td>49</td>\n",
              "    </tr>\n",
              "    <tr>\n",
              "      <th>Guatemala</th>\n",
              "      <td>86</td>\n",
              "    </tr>\n",
              "    <tr>\n",
              "      <th>Haiti</th>\n",
              "      <td>69</td>\n",
              "    </tr>\n",
              "    <tr>\n",
              "      <th>Holand-Netherlands</th>\n",
              "      <td>1</td>\n",
              "    </tr>\n",
              "    <tr>\n",
              "      <th>Honduras</th>\n",
              "      <td>19</td>\n",
              "    </tr>\n",
              "    <tr>\n",
              "      <th>Hong</th>\n",
              "      <td>28</td>\n",
              "    </tr>\n",
              "    <tr>\n",
              "      <th>Hungary</th>\n",
              "      <td>18</td>\n",
              "    </tr>\n",
              "    <tr>\n",
              "      <th>India</th>\n",
              "      <td>147</td>\n",
              "    </tr>\n",
              "    <tr>\n",
              "      <th>Iran</th>\n",
              "      <td>56</td>\n",
              "    </tr>\n",
              "    <tr>\n",
              "      <th>Ireland</th>\n",
              "      <td>36</td>\n",
              "    </tr>\n",
              "    <tr>\n",
              "      <th>Italy</th>\n",
              "      <td>100</td>\n",
              "    </tr>\n",
              "    <tr>\n",
              "      <th>Jamaica</th>\n",
              "      <td>103</td>\n",
              "    </tr>\n",
              "    <tr>\n",
              "      <th>Japan</th>\n",
              "      <td>89</td>\n",
              "    </tr>\n",
              "    <tr>\n",
              "      <th>Laos</th>\n",
              "      <td>21</td>\n",
              "    </tr>\n",
              "    <tr>\n",
              "      <th>Mexico</th>\n",
              "      <td>903</td>\n",
              "    </tr>\n",
              "    <tr>\n",
              "      <th>Nicaragua</th>\n",
              "      <td>48</td>\n",
              "    </tr>\n",
              "    <tr>\n",
              "      <th>Outlying-US(Guam-USVI-etc)</th>\n",
              "      <td>22</td>\n",
              "    </tr>\n",
              "    <tr>\n",
              "      <th>Peru</th>\n",
              "      <td>45</td>\n",
              "    </tr>\n",
              "    <tr>\n",
              "      <th>Philippines</th>\n",
              "      <td>282</td>\n",
              "    </tr>\n",
              "    <tr>\n",
              "      <th>Poland</th>\n",
              "      <td>81</td>\n",
              "    </tr>\n",
              "    <tr>\n",
              "      <th>Portugal</th>\n",
              "      <td>62</td>\n",
              "    </tr>\n",
              "    <tr>\n",
              "      <th>Puerto-Rico</th>\n",
              "      <td>175</td>\n",
              "    </tr>\n",
              "    <tr>\n",
              "      <th>Scotland</th>\n",
              "      <td>20</td>\n",
              "    </tr>\n",
              "    <tr>\n",
              "      <th>South</th>\n",
              "      <td>101</td>\n",
              "    </tr>\n",
              "    <tr>\n",
              "      <th>Taiwan</th>\n",
              "      <td>55</td>\n",
              "    </tr>\n",
              "    <tr>\n",
              "      <th>Thailand</th>\n",
              "      <td>29</td>\n",
              "    </tr>\n",
              "    <tr>\n",
              "      <th>Trinadad&amp;Tobago</th>\n",
              "      <td>26</td>\n",
              "    </tr>\n",
              "    <tr>\n",
              "      <th>United-States</th>\n",
              "      <td>41271</td>\n",
              "    </tr>\n",
              "    <tr>\n",
              "      <th>Vietnam</th>\n",
              "      <td>83</td>\n",
              "    </tr>\n",
              "    <tr>\n",
              "      <th>Yugoslavia</th>\n",
              "      <td>23</td>\n",
              "    </tr>\n",
              "  </tbody>\n",
              "</table>\n",
              "</div>"
            ],
            "text/plain": [
              "col_0                       count\n",
              "Native-country                   \n",
              "Cambodia                       26\n",
              "Canada                        163\n",
              "China                         113\n",
              "Columbia                       82\n",
              "Cuba                          133\n",
              "Dominican-Republic             97\n",
              "Ecuador                        43\n",
              "El-Salvador                   147\n",
              "England                       119\n",
              "France                         36\n",
              "Germany                       193\n",
              "Greece                         49\n",
              "Guatemala                      86\n",
              "Haiti                          69\n",
              "Holand-Netherlands              1\n",
              "Honduras                       19\n",
              "Hong                           28\n",
              "Hungary                        18\n",
              "India                         147\n",
              "Iran                           56\n",
              "Ireland                        36\n",
              "Italy                         100\n",
              "Jamaica                       103\n",
              "Japan                          89\n",
              "Laos                           21\n",
              "Mexico                        903\n",
              "Nicaragua                      48\n",
              "Outlying-US(Guam-USVI-etc)     22\n",
              "Peru                           45\n",
              "Philippines                   282\n",
              "Poland                         81\n",
              "Portugal                       62\n",
              "Puerto-Rico                   175\n",
              "Scotland                       20\n",
              "South                         101\n",
              "Taiwan                         55\n",
              "Thailand                       29\n",
              "Trinadad&Tobago                26\n",
              "United-States               41271\n",
              "Vietnam                        83\n",
              "Yugoslavia                     23"
            ]
          },
          "metadata": {
            "tags": []
          },
          "execution_count": 47
        }
      ]
    },
    {
      "metadata": {
        "id": "uRCBEqQ3hxWr",
        "colab_type": "text"
      },
      "cell_type": "markdown",
      "source": [
        "This variable is also heavily imbalanced with over 91% of the individuals being US-born.\n",
        "\n",
        "Since I am not interested in the level of detail this variable provides, I will collapse the countries into three groups \"US\", \"Non-US_developed\" and \"Non-US_emerging\", according to MSCI's\n",
        "market classification.\n",
        "\n",
        "https://www.msci.com/market-classification"
      ]
    },
    {
      "metadata": {
        "id": "qd_jUnWThxWs",
        "colab_type": "code",
        "colab": {
          "base_uri": "https://localhost:8080/",
          "height": 576
        },
        "outputId": "08341acb-d2b7-405a-9088-de47a32dded7"
      },
      "cell_type": "code",
      "source": [
        "pd.crosstab(index=df_cleaned[\"Education\"],\n",
        "                      columns=\"count\")"
      ],
      "execution_count": 48,
      "outputs": [
        {
          "output_type": "execute_result",
          "data": {
            "text/html": [
              "<div>\n",
              "<style scoped>\n",
              "    .dataframe tbody tr th:only-of-type {\n",
              "        vertical-align: middle;\n",
              "    }\n",
              "\n",
              "    .dataframe tbody tr th {\n",
              "        vertical-align: top;\n",
              "    }\n",
              "\n",
              "    .dataframe thead th {\n",
              "        text-align: right;\n",
              "    }\n",
              "</style>\n",
              "<table border=\"1\" class=\"dataframe\">\n",
              "  <thead>\n",
              "    <tr style=\"text-align: right;\">\n",
              "      <th>col_0</th>\n",
              "      <th>count</th>\n",
              "    </tr>\n",
              "    <tr>\n",
              "      <th>Education</th>\n",
              "      <th></th>\n",
              "    </tr>\n",
              "  </thead>\n",
              "  <tbody>\n",
              "    <tr>\n",
              "      <th>10th</th>\n",
              "      <td>1223</td>\n",
              "    </tr>\n",
              "    <tr>\n",
              "      <th>11th</th>\n",
              "      <td>1618</td>\n",
              "    </tr>\n",
              "    <tr>\n",
              "      <th>12th</th>\n",
              "      <td>577</td>\n",
              "    </tr>\n",
              "    <tr>\n",
              "      <th>1st-4th</th>\n",
              "      <td>222</td>\n",
              "    </tr>\n",
              "    <tr>\n",
              "      <th>5th-6th</th>\n",
              "      <td>449</td>\n",
              "    </tr>\n",
              "    <tr>\n",
              "      <th>7th-8th</th>\n",
              "      <td>821</td>\n",
              "    </tr>\n",
              "    <tr>\n",
              "      <th>9th</th>\n",
              "      <td>676</td>\n",
              "    </tr>\n",
              "    <tr>\n",
              "      <th>Assoc-acdm</th>\n",
              "      <td>1505</td>\n",
              "    </tr>\n",
              "    <tr>\n",
              "      <th>Assoc-voc</th>\n",
              "      <td>1959</td>\n",
              "    </tr>\n",
              "    <tr>\n",
              "      <th>Bachelors</th>\n",
              "      <td>7570</td>\n",
              "    </tr>\n",
              "    <tr>\n",
              "      <th>Doctorate</th>\n",
              "      <td>544</td>\n",
              "    </tr>\n",
              "    <tr>\n",
              "      <th>HS-grad</th>\n",
              "      <td>14769</td>\n",
              "    </tr>\n",
              "    <tr>\n",
              "      <th>Masters</th>\n",
              "      <td>2514</td>\n",
              "    </tr>\n",
              "    <tr>\n",
              "      <th>Preschool</th>\n",
              "      <td>72</td>\n",
              "    </tr>\n",
              "    <tr>\n",
              "      <th>Prof-school</th>\n",
              "      <td>785</td>\n",
              "    </tr>\n",
              "    <tr>\n",
              "      <th>Some-college</th>\n",
              "      <td>9896</td>\n",
              "    </tr>\n",
              "  </tbody>\n",
              "</table>\n",
              "</div>"
            ],
            "text/plain": [
              "col_0         count\n",
              "Education          \n",
              "10th           1223\n",
              "11th           1618\n",
              "12th            577\n",
              "1st-4th         222\n",
              "5th-6th         449\n",
              "7th-8th         821\n",
              "9th             676\n",
              "Assoc-acdm     1505\n",
              "Assoc-voc      1959\n",
              "Bachelors      7570\n",
              "Doctorate       544\n",
              "HS-grad       14769\n",
              "Masters        2514\n",
              "Preschool        72\n",
              "Prof-school     785\n",
              "Some-college   9896"
            ]
          },
          "metadata": {
            "tags": []
          },
          "execution_count": 48
        }
      ]
    },
    {
      "metadata": {
        "id": "6j7ve9pthxWw",
        "colab_type": "text"
      },
      "cell_type": "markdown",
      "source": [
        "Education will be collapsed into five groups \"Associate\", \"Bachelors\", \"Doctorate, \"HS-grad, \"Masters\", and no-HS\"."
      ]
    },
    {
      "metadata": {
        "id": "lp6hwn0HhxWw",
        "colab_type": "code",
        "colab": {
          "base_uri": "https://localhost:8080/",
          "height": 514
        },
        "outputId": "3d29da19-2008-454d-f3f9-2b77ae53b615"
      },
      "cell_type": "code",
      "source": [
        "pd.crosstab(index=df_cleaned[\"Occupation\"],\n",
        "                      columns=\"count\")"
      ],
      "execution_count": 49,
      "outputs": [
        {
          "output_type": "execute_result",
          "data": {
            "text/html": [
              "<div>\n",
              "<style scoped>\n",
              "    .dataframe tbody tr th:only-of-type {\n",
              "        vertical-align: middle;\n",
              "    }\n",
              "\n",
              "    .dataframe tbody tr th {\n",
              "        vertical-align: top;\n",
              "    }\n",
              "\n",
              "    .dataframe thead th {\n",
              "        text-align: right;\n",
              "    }\n",
              "</style>\n",
              "<table border=\"1\" class=\"dataframe\">\n",
              "  <thead>\n",
              "    <tr style=\"text-align: right;\">\n",
              "      <th>col_0</th>\n",
              "      <th>count</th>\n",
              "    </tr>\n",
              "    <tr>\n",
              "      <th>Occupation</th>\n",
              "      <th></th>\n",
              "    </tr>\n",
              "  </thead>\n",
              "  <tbody>\n",
              "    <tr>\n",
              "      <th>Adm-clerical</th>\n",
              "      <td>5537</td>\n",
              "    </tr>\n",
              "    <tr>\n",
              "      <th>Armed-Forces</th>\n",
              "      <td>14</td>\n",
              "    </tr>\n",
              "    <tr>\n",
              "      <th>Craft-repair</th>\n",
              "      <td>6019</td>\n",
              "    </tr>\n",
              "    <tr>\n",
              "      <th>Exec-managerial</th>\n",
              "      <td>5983</td>\n",
              "    </tr>\n",
              "    <tr>\n",
              "      <th>Farming-fishing</th>\n",
              "      <td>1472</td>\n",
              "    </tr>\n",
              "    <tr>\n",
              "      <th>Handlers-cleaners</th>\n",
              "      <td>2044</td>\n",
              "    </tr>\n",
              "    <tr>\n",
              "      <th>Machine-op-inspct</th>\n",
              "      <td>2967</td>\n",
              "    </tr>\n",
              "    <tr>\n",
              "      <th>Other-service</th>\n",
              "      <td>4806</td>\n",
              "    </tr>\n",
              "    <tr>\n",
              "      <th>Priv-house-serv</th>\n",
              "      <td>232</td>\n",
              "    </tr>\n",
              "    <tr>\n",
              "      <th>Prof-specialty</th>\n",
              "      <td>6008</td>\n",
              "    </tr>\n",
              "    <tr>\n",
              "      <th>Protective-serv</th>\n",
              "      <td>976</td>\n",
              "    </tr>\n",
              "    <tr>\n",
              "      <th>Sales</th>\n",
              "      <td>5407</td>\n",
              "    </tr>\n",
              "    <tr>\n",
              "      <th>Tech-support</th>\n",
              "      <td>1420</td>\n",
              "    </tr>\n",
              "    <tr>\n",
              "      <th>Transport-moving</th>\n",
              "      <td>2315</td>\n",
              "    </tr>\n",
              "  </tbody>\n",
              "</table>\n",
              "</div>"
            ],
            "text/plain": [
              "col_0              count\n",
              "Occupation              \n",
              "Adm-clerical        5537\n",
              "Armed-Forces          14\n",
              "Craft-repair        6019\n",
              "Exec-managerial     5983\n",
              "Farming-fishing     1472\n",
              "Handlers-cleaners   2044\n",
              "Machine-op-inspct   2967\n",
              "Other-service       4806\n",
              "Priv-house-serv      232\n",
              "Prof-specialty      6008\n",
              "Protective-serv      976\n",
              "Sales               5407\n",
              "Tech-support        1420\n",
              "Transport-moving    2315"
            ]
          },
          "metadata": {
            "tags": []
          },
          "execution_count": 49
        }
      ]
    },
    {
      "metadata": {
        "id": "LMynlRbihxW2",
        "colab_type": "text"
      },
      "cell_type": "markdown",
      "source": [
        "I will retain the values as they are as I want to explore the role of each occupation in this analysis. However, Armed Forces will be dropped to the low number of occurrences."
      ]
    },
    {
      "metadata": {
        "id": "k2H5ldXphxW2",
        "colab_type": "code",
        "colab": {
          "base_uri": "https://localhost:8080/",
          "height": 34
        },
        "outputId": "388cff74-fc1b-4a41-b253-badf8ed0a9d8"
      },
      "cell_type": "code",
      "source": [
        "df_cleaned = df_cleaned[df_cleaned.Occupation != 'Armed-Forces']\n",
        "df_cleaned.shape"
      ],
      "execution_count": 50,
      "outputs": [
        {
          "output_type": "execute_result",
          "data": {
            "text/plain": [
              "(45186, 14)"
            ]
          },
          "metadata": {
            "tags": []
          },
          "execution_count": 50
        }
      ]
    },
    {
      "metadata": {
        "id": "9xzyzepdhxW6",
        "colab_type": "code",
        "colab": {
          "base_uri": "https://localhost:8080/",
          "height": 297
        },
        "outputId": "d7e38189-86fe-430a-b3a3-7a9caccb6120"
      },
      "cell_type": "code",
      "source": [
        "pd.crosstab(index=df_cleaned[\"Marital-Status\"],\n",
        "                      columns=\"count\")"
      ],
      "execution_count": 51,
      "outputs": [
        {
          "output_type": "execute_result",
          "data": {
            "text/html": [
              "<div>\n",
              "<style scoped>\n",
              "    .dataframe tbody tr th:only-of-type {\n",
              "        vertical-align: middle;\n",
              "    }\n",
              "\n",
              "    .dataframe tbody tr th {\n",
              "        vertical-align: top;\n",
              "    }\n",
              "\n",
              "    .dataframe thead th {\n",
              "        text-align: right;\n",
              "    }\n",
              "</style>\n",
              "<table border=\"1\" class=\"dataframe\">\n",
              "  <thead>\n",
              "    <tr style=\"text-align: right;\">\n",
              "      <th>col_0</th>\n",
              "      <th>count</th>\n",
              "    </tr>\n",
              "    <tr>\n",
              "      <th>Marital-Status</th>\n",
              "      <th></th>\n",
              "    </tr>\n",
              "  </thead>\n",
              "  <tbody>\n",
              "    <tr>\n",
              "      <th>Divorced</th>\n",
              "      <td>6297</td>\n",
              "    </tr>\n",
              "    <tr>\n",
              "      <th>Married-AF-spouse</th>\n",
              "      <td>32</td>\n",
              "    </tr>\n",
              "    <tr>\n",
              "      <th>Married-civ-spouse</th>\n",
              "      <td>21036</td>\n",
              "    </tr>\n",
              "    <tr>\n",
              "      <th>Married-spouse-absent</th>\n",
              "      <td>551</td>\n",
              "    </tr>\n",
              "    <tr>\n",
              "      <th>Never-married</th>\n",
              "      <td>14583</td>\n",
              "    </tr>\n",
              "    <tr>\n",
              "      <th>Separated</th>\n",
              "      <td>1411</td>\n",
              "    </tr>\n",
              "    <tr>\n",
              "      <th>Widowed</th>\n",
              "      <td>1276</td>\n",
              "    </tr>\n",
              "  </tbody>\n",
              "</table>\n",
              "</div>"
            ],
            "text/plain": [
              "col_0                  count\n",
              "Marital-Status              \n",
              "Divorced                6297\n",
              "Married-AF-spouse         32\n",
              "Married-civ-spouse     21036\n",
              "Married-spouse-absent    551\n",
              "Never-married          14583\n",
              "Separated               1411\n",
              "Widowed                 1276"
            ]
          },
          "metadata": {
            "tags": []
          },
          "execution_count": 51
        }
      ]
    },
    {
      "metadata": {
        "id": "DjmaI-WFhxXB",
        "colab_type": "text"
      },
      "cell_type": "markdown",
      "source": [
        "These will be collapsed into two groups \"Married\" and \"Unmarried\"."
      ]
    },
    {
      "metadata": {
        "id": "4FYkjH8EhxXC",
        "colab_type": "code",
        "colab": {
          "base_uri": "https://localhost:8080/",
          "height": 266
        },
        "outputId": "4987cf17-c841-42ef-9c04-a01fd8bcd5b5"
      },
      "cell_type": "code",
      "source": [
        "pd.crosstab(index=df_cleaned[\"Relationship\"],\n",
        "                      columns=\"count\")"
      ],
      "execution_count": 52,
      "outputs": [
        {
          "output_type": "execute_result",
          "data": {
            "text/html": [
              "<div>\n",
              "<style scoped>\n",
              "    .dataframe tbody tr th:only-of-type {\n",
              "        vertical-align: middle;\n",
              "    }\n",
              "\n",
              "    .dataframe tbody tr th {\n",
              "        vertical-align: top;\n",
              "    }\n",
              "\n",
              "    .dataframe thead th {\n",
              "        text-align: right;\n",
              "    }\n",
              "</style>\n",
              "<table border=\"1\" class=\"dataframe\">\n",
              "  <thead>\n",
              "    <tr style=\"text-align: right;\">\n",
              "      <th>col_0</th>\n",
              "      <th>count</th>\n",
              "    </tr>\n",
              "    <tr>\n",
              "      <th>Relationship</th>\n",
              "      <th></th>\n",
              "    </tr>\n",
              "  </thead>\n",
              "  <tbody>\n",
              "    <tr>\n",
              "      <th>Husband</th>\n",
              "      <td>18653</td>\n",
              "    </tr>\n",
              "    <tr>\n",
              "      <th>Not-in-family</th>\n",
              "      <td>11697</td>\n",
              "    </tr>\n",
              "    <tr>\n",
              "      <th>Other-relative</th>\n",
              "      <td>1347</td>\n",
              "    </tr>\n",
              "    <tr>\n",
              "      <th>Own-child</th>\n",
              "      <td>6615</td>\n",
              "    </tr>\n",
              "    <tr>\n",
              "      <th>Unmarried</th>\n",
              "      <td>4786</td>\n",
              "    </tr>\n",
              "    <tr>\n",
              "      <th>Wife</th>\n",
              "      <td>2088</td>\n",
              "    </tr>\n",
              "  </tbody>\n",
              "</table>\n",
              "</div>"
            ],
            "text/plain": [
              "col_0           count\n",
              "Relationship         \n",
              "Husband         18653\n",
              "Not-in-family   11697\n",
              "Other-relative   1347\n",
              "Own-child        6615\n",
              "Unmarried        4786\n",
              "Wife             2088"
            ]
          },
          "metadata": {
            "tags": []
          },
          "execution_count": 52
        }
      ]
    },
    {
      "metadata": {
        "id": "fWIXhL74hxXI",
        "colab_type": "text"
      },
      "cell_type": "markdown",
      "source": [
        "Some of the categories here look similar to those available for Marital-Status and Sex so will likely be showing collinearity. Leaving this variable in as it is for now."
      ]
    },
    {
      "metadata": {
        "id": "2jS37KymhxXK",
        "colab_type": "code",
        "colab": {
          "base_uri": "https://localhost:8080/",
          "height": 235
        },
        "outputId": "c29514f8-711a-4740-aa16-eeee73b048fa"
      },
      "cell_type": "code",
      "source": [
        "pd.crosstab(index=df_cleaned[\"Race\"],\n",
        "                      columns=\"count\")"
      ],
      "execution_count": 53,
      "outputs": [
        {
          "output_type": "execute_result",
          "data": {
            "text/html": [
              "<div>\n",
              "<style scoped>\n",
              "    .dataframe tbody tr th:only-of-type {\n",
              "        vertical-align: middle;\n",
              "    }\n",
              "\n",
              "    .dataframe tbody tr th {\n",
              "        vertical-align: top;\n",
              "    }\n",
              "\n",
              "    .dataframe thead th {\n",
              "        text-align: right;\n",
              "    }\n",
              "</style>\n",
              "<table border=\"1\" class=\"dataframe\">\n",
              "  <thead>\n",
              "    <tr style=\"text-align: right;\">\n",
              "      <th>col_0</th>\n",
              "      <th>count</th>\n",
              "    </tr>\n",
              "    <tr>\n",
              "      <th>Race</th>\n",
              "      <th></th>\n",
              "    </tr>\n",
              "  </thead>\n",
              "  <tbody>\n",
              "    <tr>\n",
              "      <th>Amer-Indian-Eskimo</th>\n",
              "      <td>434</td>\n",
              "    </tr>\n",
              "    <tr>\n",
              "      <th>Asian-Pac-Islander</th>\n",
              "      <td>1302</td>\n",
              "    </tr>\n",
              "    <tr>\n",
              "      <th>Black</th>\n",
              "      <td>4225</td>\n",
              "    </tr>\n",
              "    <tr>\n",
              "      <th>Other</th>\n",
              "      <td>353</td>\n",
              "    </tr>\n",
              "    <tr>\n",
              "      <th>White</th>\n",
              "      <td>38872</td>\n",
              "    </tr>\n",
              "  </tbody>\n",
              "</table>\n",
              "</div>"
            ],
            "text/plain": [
              "col_0               count\n",
              "Race                     \n",
              "Amer-Indian-Eskimo    434\n",
              "Asian-Pac-Islander   1302\n",
              "Black                4225\n",
              "Other                 353\n",
              "White               38872"
            ]
          },
          "metadata": {
            "tags": []
          },
          "execution_count": 53
        }
      ]
    },
    {
      "metadata": {
        "id": "LxXQafdhhxXO",
        "colab_type": "text"
      },
      "cell_type": "markdown",
      "source": [
        "Race is heavily imbalanced with ~87% of the individuals being white"
      ]
    },
    {
      "metadata": {
        "id": "1O9idFeBhxXO",
        "colab_type": "text"
      },
      "cell_type": "markdown",
      "source": [
        "## Bin categorical data"
      ]
    },
    {
      "metadata": {
        "id": "xJ_XLg0vhxXP",
        "colab_type": "code",
        "colab": {}
      },
      "cell_type": "code",
      "source": [
        "# replace values in Marital-status with married/not married\n",
        "\n",
        "pd.options.mode.chained_assignment = None\n",
        "df_binned = df_cleaned.copy()\n",
        "df_binned.replace(['Divorced', 'Married-AF-spouse', \n",
        "              'Married-civ-spouse', 'Married-spouse-absent', \n",
        "              'Never-married','Separated','Widowed'],\n",
        "             ['not married','married','married','married',\n",
        "              'not married','not married','not married'], inplace = True)"
      ],
      "execution_count": 0,
      "outputs": []
    },
    {
      "metadata": {
        "id": "meG-AS5_hxXR",
        "colab_type": "code",
        "colab": {
          "base_uri": "https://localhost:8080/",
          "height": 196
        },
        "outputId": "c775cab1-437c-41ad-cbf2-04430314df0f"
      },
      "cell_type": "code",
      "source": [
        "pd.crosstab(index=df_binned[\"Marital-Status\"],\n",
        "                      columns=\"count\")"
      ],
      "execution_count": 55,
      "outputs": [
        {
          "output_type": "execute_result",
          "data": {
            "text/html": [
              "<div>\n",
              "<style scoped>\n",
              "    .dataframe tbody tr th:only-of-type {\n",
              "        vertical-align: middle;\n",
              "    }\n",
              "\n",
              "    .dataframe tbody tr th {\n",
              "        vertical-align: top;\n",
              "    }\n",
              "\n",
              "    .dataframe thead th {\n",
              "        text-align: right;\n",
              "    }\n",
              "</style>\n",
              "<table border=\"1\" class=\"dataframe\">\n",
              "  <thead>\n",
              "    <tr style=\"text-align: right;\">\n",
              "      <th>col_0</th>\n",
              "      <th>count</th>\n",
              "    </tr>\n",
              "    <tr>\n",
              "      <th>Marital-Status</th>\n",
              "      <th></th>\n",
              "    </tr>\n",
              "  </thead>\n",
              "  <tbody>\n",
              "    <tr>\n",
              "      <th>married</th>\n",
              "      <td>21619</td>\n",
              "    </tr>\n",
              "    <tr>\n",
              "      <th>not married</th>\n",
              "      <td>23567</td>\n",
              "    </tr>\n",
              "  </tbody>\n",
              "</table>\n",
              "</div>"
            ],
            "text/plain": [
              "col_0           count\n",
              "Marital-Status       \n",
              "married         21619\n",
              "not married     23567"
            ]
          },
          "metadata": {
            "tags": []
          },
          "execution_count": 55
        }
      ]
    },
    {
      "metadata": {
        "id": "AOHRkhDThxXU",
        "colab_type": "code",
        "colab": {}
      },
      "cell_type": "code",
      "source": [
        "# bin values in Workclass\n",
        "pd.options.mode.chained_assignment = None\n",
        "df_binned.replace(['Federal-gov', 'Local-gov', \n",
        "              'Private', 'Self-emp-inc', \n",
        "              'Self-emp-not-inc','State-gov'],\n",
        "             ['Public','Public','Private','Self-emp',\n",
        "              'Self-emp','Public'], inplace = True)"
      ],
      "execution_count": 0,
      "outputs": []
    },
    {
      "metadata": {
        "id": "PLd2KLtjhxXY",
        "colab_type": "code",
        "colab": {
          "base_uri": "https://localhost:8080/",
          "height": 193
        },
        "outputId": "272f36f9-a4de-40d6-e127-066370a2770c"
      },
      "cell_type": "code",
      "source": [
        "pd.crosstab(index=df_binned[\"Workclass\"],\n",
        "                      columns=\"count\")"
      ],
      "execution_count": 57,
      "outputs": [
        {
          "output_type": "execute_result",
          "data": {
            "text/html": [
              "<div>\n",
              "<style scoped>\n",
              "    .dataframe tbody tr th:only-of-type {\n",
              "        vertical-align: middle;\n",
              "    }\n",
              "\n",
              "    .dataframe tbody tr th {\n",
              "        vertical-align: top;\n",
              "    }\n",
              "\n",
              "    .dataframe thead th {\n",
              "        text-align: right;\n",
              "    }\n",
              "</style>\n",
              "<table border=\"1\" class=\"dataframe\">\n",
              "  <thead>\n",
              "    <tr style=\"text-align: right;\">\n",
              "      <th>col_0</th>\n",
              "      <th>count</th>\n",
              "    </tr>\n",
              "    <tr>\n",
              "      <th>Workclass</th>\n",
              "      <th></th>\n",
              "    </tr>\n",
              "  </thead>\n",
              "  <tbody>\n",
              "    <tr>\n",
              "      <th>Private</th>\n",
              "      <td>33306</td>\n",
              "    </tr>\n",
              "    <tr>\n",
              "      <th>Public</th>\n",
              "      <td>6438</td>\n",
              "    </tr>\n",
              "    <tr>\n",
              "      <th>Self-emp</th>\n",
              "      <td>5442</td>\n",
              "    </tr>\n",
              "  </tbody>\n",
              "</table>\n",
              "</div>"
            ],
            "text/plain": [
              "col_0      count\n",
              "Workclass       \n",
              "Private    33306\n",
              "Public      6438\n",
              "Self-emp    5442"
            ]
          },
          "metadata": {
            "tags": []
          },
          "execution_count": 57
        }
      ]
    },
    {
      "metadata": {
        "id": "ex6NDIPchxXc",
        "colab_type": "code",
        "colab": {}
      },
      "cell_type": "code",
      "source": [
        "# bin values in Native-country as per https://www.msci.com/market-classification. I'm guessing that 'South' refers to South Korea but can't confirm so marking as unknown\n",
        "\n",
        "pd.options.mode.chained_assignment = None\n",
        "df_binned.replace(['Cambodia', 'Canada', \n",
        "                  'China', 'Columbia', \n",
        "                  'Cuba','Dominican-Republic','Ecuador',\n",
        "                'El-Salvador', 'England', 'France',\n",
        "                'Germany', 'Greece', 'Guatemala', 'Haiti',\n",
        "                  'Holand-Netherlands', 'Honduras', 'Hong',\n",
        "                  'Hungary', 'India', 'Iran', 'Ireland', 'Italy',\n",
        "                  'Jamaica', 'Japan', 'Laos', 'Mexico', 'Nicaragua',\n",
        "                  'Outlying-US(Guam-USVI-etc)', 'Peru', 'Philippines',\n",
        "                  'Poland', 'Portugal', 'Puerto-Rico',\n",
        "                  'Scotland', 'South', 'Taiwan', 'Thailand',\n",
        "                  'Trinadad&Tobago', 'United-States', 'Vietnam',\n",
        "                  'Yugoslavia'],\n",
        "                  ['non-US_emerging','non-US_developed','non-US_emerging','non-US_emerging',\n",
        "                   'non-US_emerging','non-US_emerging','non-US_emerging','non-US_emerging',\n",
        "                   'non-US_developed', 'non-US_developed', 'non-US_developed', 'non-US_emerging',\n",
        "                   'non-US_emerging', 'non-US_emerging', 'non-US_developed', 'non-US_emerging',\n",
        "                   'non-US_developed', 'non-US_emerging', 'non-US_emerging', 'non-US_emerging',\n",
        "                   'non-US_developed', 'non-US_developed', 'non-US_emerging', 'non-US_developed',\n",
        "                   'non-US_emerging', 'non-US_emerging', 'non-US_emerging', 'US', 'non-US_emerging',\n",
        "                   'non-US_emerging', 'non-US_emerging', 'non-US_developed', 'non-US_emerging',\n",
        "                   'non-US_developed','unknown', 'non-US_emerging','non-US_emerging',\n",
        "                    'non-US_emerging', 'US', 'non-US_emerging', 'non-US_emerging'], inplace = True)"
      ],
      "execution_count": 0,
      "outputs": []
    },
    {
      "metadata": {
        "id": "DIwIXr0phxXf",
        "colab_type": "code",
        "colab": {
          "base_uri": "https://localhost:8080/",
          "height": 275
        },
        "outputId": "f4e55530-5c2f-46c2-a6a9-55a25996ac08"
      },
      "cell_type": "code",
      "source": [
        "pd.crosstab(index=df_binned[\"Native-country\"],\n",
        "                      columns=\"count\")"
      ],
      "execution_count": 59,
      "outputs": [
        {
          "output_type": "execute_result",
          "data": {
            "text/html": [
              "<div>\n",
              "<style scoped>\n",
              "    .dataframe tbody tr th:only-of-type {\n",
              "        vertical-align: middle;\n",
              "    }\n",
              "\n",
              "    .dataframe tbody tr th {\n",
              "        vertical-align: top;\n",
              "    }\n",
              "\n",
              "    .dataframe thead th {\n",
              "        text-align: right;\n",
              "    }\n",
              "</style>\n",
              "<table border=\"1\" class=\"dataframe\">\n",
              "  <thead>\n",
              "    <tr style=\"text-align: right;\">\n",
              "      <th>col_0</th>\n",
              "      <th>count</th>\n",
              "    </tr>\n",
              "    <tr>\n",
              "      <th>Native-country</th>\n",
              "      <th></th>\n",
              "    </tr>\n",
              "  </thead>\n",
              "  <tbody>\n",
              "    <tr>\n",
              "      <th>US</th>\n",
              "      <td>41279</td>\n",
              "    </tr>\n",
              "    <tr>\n",
              "      <th>non-US_developed</th>\n",
              "      <td>847</td>\n",
              "    </tr>\n",
              "    <tr>\n",
              "      <th>non-US_emerging</th>\n",
              "      <td>2959</td>\n",
              "    </tr>\n",
              "    <tr>\n",
              "      <th>unknown</th>\n",
              "      <td>101</td>\n",
              "    </tr>\n",
              "  </tbody>\n",
              "</table>\n",
              "</div>"
            ],
            "text/plain": [
              "col_0             count\n",
              "Native-country         \n",
              "US                41279\n",
              "non-US_developed    847\n",
              "non-US_emerging    2959\n",
              "unknown             101"
            ]
          },
          "metadata": {
            "tags": []
          },
          "execution_count": 59
        }
      ]
    },
    {
      "metadata": {
        "id": "CM9aceRmhxXk",
        "colab_type": "code",
        "colab": {}
      },
      "cell_type": "code",
      "source": [
        "pd.options.mode.chained_assignment = None\n",
        "df_binned.replace(['10th', '11th', \n",
        "              '12th', '1st-4th', \n",
        "              '5th-6th', '7th-8th', '9th', 'Assoc-acdm', 'Assoc-voc', 'Some-college',\n",
        "                'Preschool', 'Prof-school'],\n",
        "             ['noHS','noHS','noHS','noHS', 'noHS', 'noHS', 'noHS', 'Associate', 'Associate', \n",
        "            'HS-grad', 'noHS','Associate'], inplace = True)"
      ],
      "execution_count": 0,
      "outputs": []
    },
    {
      "metadata": {
        "id": "BYyuKMMuhxXm",
        "colab_type": "code",
        "colab": {
          "base_uri": "https://localhost:8080/",
          "height": 286
        },
        "outputId": "ec16f807-f458-44f0-c2a9-257d1aec4dc3"
      },
      "cell_type": "code",
      "source": [
        "pd.crosstab(index=df_binned[\"Education\"],\n",
        "                      columns=\"count\")"
      ],
      "execution_count": 61,
      "outputs": [
        {
          "output_type": "execute_result",
          "data": {
            "text/html": [
              "<div>\n",
              "<style scoped>\n",
              "    .dataframe tbody tr th:only-of-type {\n",
              "        vertical-align: middle;\n",
              "    }\n",
              "\n",
              "    .dataframe tbody tr th {\n",
              "        vertical-align: top;\n",
              "    }\n",
              "\n",
              "    .dataframe thead th {\n",
              "        text-align: right;\n",
              "    }\n",
              "</style>\n",
              "<table border=\"1\" class=\"dataframe\">\n",
              "  <thead>\n",
              "    <tr style=\"text-align: right;\">\n",
              "      <th>col_0</th>\n",
              "      <th>count</th>\n",
              "    </tr>\n",
              "    <tr>\n",
              "      <th>Education</th>\n",
              "      <th></th>\n",
              "    </tr>\n",
              "  </thead>\n",
              "  <tbody>\n",
              "    <tr>\n",
              "      <th>Associate</th>\n",
              "      <td>4248</td>\n",
              "    </tr>\n",
              "    <tr>\n",
              "      <th>Bachelors</th>\n",
              "      <td>7569</td>\n",
              "    </tr>\n",
              "    <tr>\n",
              "      <th>Doctorate</th>\n",
              "      <td>544</td>\n",
              "    </tr>\n",
              "    <tr>\n",
              "      <th>HS-grad</th>\n",
              "      <td>24656</td>\n",
              "    </tr>\n",
              "    <tr>\n",
              "      <th>Masters</th>\n",
              "      <td>2512</td>\n",
              "    </tr>\n",
              "    <tr>\n",
              "      <th>noHS</th>\n",
              "      <td>5657</td>\n",
              "    </tr>\n",
              "  </tbody>\n",
              "</table>\n",
              "</div>"
            ],
            "text/plain": [
              "col_0      count\n",
              "Education       \n",
              "Associate   4248\n",
              "Bachelors   7569\n",
              "Doctorate    544\n",
              "HS-grad    24656\n",
              "Masters     2512\n",
              "noHS        5657"
            ]
          },
          "metadata": {
            "tags": []
          },
          "execution_count": 61
        }
      ]
    },
    {
      "metadata": {
        "id": "vv3qKiQ5hxXp",
        "colab_type": "text"
      },
      "cell_type": "markdown",
      "source": [
        "# Explore categorical variables"
      ]
    },
    {
      "metadata": {
        "scrolled": true,
        "id": "5YXygzBThxXq",
        "colab_type": "code",
        "colab": {
          "base_uri": "https://localhost:8080/",
          "height": 629
        },
        "outputId": "b3455f21-8657-44c4-e25d-7a5d4833518c"
      },
      "cell_type": "code",
      "source": [
        "fig, ax = plt.subplots(3,3, figsize=(15,10))\n",
        "plt.subplots_adjust(left=None, bottom=None, right=None, top=None, wspace=0.6, hspace=0.3)\n",
        "sns.countplot(y='Marital-Status', hue='Income', data=df_binned, ax=ax[0,0])\n",
        "sns.countplot(y='Sex', hue='Income', data=df_binned, ax=ax[0,1])\n",
        "sns.countplot(y='Education', hue='Income', data=df_binned, ax=ax[0,2])\n",
        "sns.countplot(y='Native-country', hue='Income', data=df_binned, ax=ax[1,0])\n",
        "sns.countplot(y='Race', hue='Income', data=df_binned, ax=ax[1,1])\n",
        "sns.countplot(y='Occupation', hue='Income', data=df_binned, ax=ax[1,2])\n",
        "sns.countplot(y='Relationship', hue='Income', data=df_binned, ax=ax[2,0])\n",
        "sns.countplot(y='Workclass', hue='Income', data=df_binned, ax=ax[2,1])\n",
        "fig.delaxes(ax[2,2])\n",
        "plt.show()"
      ],
      "execution_count": 65,
      "outputs": [
        {
          "output_type": "display_data",
          "data": {
            "image/png": "[encoded data removed]",
            "text/plain": [
              "<Figure size 1080x720 with 8 Axes>"
            ]
          },
          "metadata": {
            "tags": []
          }
        }
      ]
    },
    {
      "metadata": {
        "collapsed": false,
        "id": "f2vHHGAEhxXw",
        "colab_type": "text"
      },
      "cell_type": "markdown",
      "source": [
        "Plotting the categorical variables against Income, Marital-Status, Sex, Occupation, Relationship and Education all appear to show good predictability of income level."
      ]
    },
    {
      "metadata": {
        "id": "CCpD42UZhxXx",
        "colab_type": "raw"
      },
      "cell_type": "markdown",
      "source": [
        "Using box plots to explore differences in income between men and women, it is interesting to see that hours worked per week appear to affect women's income level more than they do for men. Men also see their income increase more as they age than women do."
      ]
    },
    {
      "metadata": {
        "id": "fGy12u7HhxXy",
        "colab_type": "code",
        "colab": {
          "base_uri": "https://localhost:8080/",
          "height": 297
        },
        "outputId": "996938e9-36e3-4d78-ee3a-9bbc8f20c5da"
      },
      "cell_type": "code",
      "source": [
        "g = sns.FacetGrid(df_binned, col='Sex', height=4, aspect=.5)\n",
        "g = g.map(sns.boxplot, 'Income', 'Hours-per-week', order=None)\n",
        "plt.show()"
      ],
      "execution_count": 72,
      "outputs": [
        {
          "output_type": "display_data",
          "data": {
            "image/png": "[encoded data removed]",
            "text/plain": [
              "<Figure size 288x288 with 2 Axes>"
            ]
          },
          "metadata": {
            "tags": []
          }
        }
      ]
    },
    {
      "metadata": {
        "id": "J9qRDgg9hxX5",
        "colab_type": "code",
        "colab": {
          "base_uri": "https://localhost:8080/",
          "height": 297
        },
        "outputId": "b6d0172a-2ada-4d4b-bd82-a33522a29db7"
      },
      "cell_type": "code",
      "source": [
        "g = sns.FacetGrid(df_binned, col='Sex', height=4, aspect=.5)\n",
        "g = g.map(sns.boxplot, 'Income', 'Age', order=None)\n",
        "plt.show()"
      ],
      "execution_count": 74,
      "outputs": [
        {
          "output_type": "display_data",
          "data": {
            "image/png": "[encoded data removed]",
            "text/plain": [
              "<Figure size 288x288 with 2 Axes>"
            ]
          },
          "metadata": {
            "tags": []
          }
        }
      ]
    },
    {
      "metadata": {
        "id": "gayuCeHGhxX-",
        "colab_type": "text"
      },
      "cell_type": "markdown",
      "source": [
        "## Encode categorical variables"
      ]
    },
    {
      "metadata": {
        "id": "iVCamXGWhxX_",
        "colab_type": "code",
        "colab": {}
      },
      "cell_type": "code",
      "source": [
        "pd.options.mode.chained_assignment = None\n",
        "df_encoded = df_binned.copy()\n",
        "# Transform target variable Income to 1/0\n",
        "df_encoded['is_high'] = df_encoded.Income.apply(lambda x: 1 if x == '>50K' else 0)\n",
        "\n",
        "# Transform Sex to 1/0\n",
        "df_encoded['is_male'] = df_encoded.Sex.apply(lambda x: 1 if x == 'Male' else 0)\n",
        "df_encoded['is_married'] = df_encoded['Marital-Status'].apply(lambda x: 1 if x == 'married' else 0)\n",
        "\n",
        "# Create dummy categories for the rest of the categorical variables and apply drop_first to avoid collinearity\n",
        "dummies = pd.get_dummies(df_encoded, prefix=['Workclass', 'Education', 'Occupation', 'Relationship', 'Race', 'Native-country'], \n",
        "                         columns=['Workclass', 'Education', 'Occupation', 'Relationship', 'Race', 'Native-country'], drop_first=True)\n",
        "\n",
        "\n",
        "# Copying dummies into the final dataframe\n",
        "df_final = dummies.copy()"
      ],
      "execution_count": 0,
      "outputs": []
    },
    {
      "metadata": {
        "id": "ap8xyiNYhxYD",
        "colab_type": "text"
      },
      "cell_type": "markdown",
      "source": [
        "## Relationship Analysis"
      ]
    },
    {
      "metadata": {
        "collapsed": true,
        "id": "dKvsc_52hxYE",
        "colab_type": "text"
      },
      "cell_type": "markdown",
      "source": [
        "Now that all categorical variables have been encoded, it is possible to explore how the features in the dataset relate to each other and the target variable."
      ]
    },
    {
      "metadata": {
        "id": "gEnn5EpnhxYF",
        "colab_type": "code",
        "colab": {}
      },
      "cell_type": "code",
      "source": [
        "sns.diverging_palette(200, 10, as_cmap=True)\n",
        "correlations = dummies.corr()\n",
        "plt.subplots(figsize=(25,20))\n",
        "sns.heatmap(correlations)"
      ],
      "execution_count": 0,
      "outputs": []
    },
    {
      "metadata": {
        "id": "izCXy-tFhxYI",
        "colab_type": "text"
      },
      "cell_type": "markdown",
      "source": [
        "Unsurprisingly, dummy variables derived from Education and Education-Num show collinearity as years in education correspond to the education level achieved. Apart from a strong and obvious negative correlation between Race_White and Race_Black, the data does not show strong multicollinearity.\n",
        "\n",
        "The largest positive correlation value is ~0.5 as printed below"
      ]
    },
    {
      "metadata": {
        "id": "82gHk4n9hxYJ",
        "colab_type": "code",
        "colab": {}
      },
      "cell_type": "code",
      "source": [
        "c = dummies.corr().abs()\n",
        "\n",
        "s = c.unstack()\n",
        "so = s.sort_values()\n",
        "\n",
        "print (so[-47:-45])"
      ],
      "execution_count": 0,
      "outputs": []
    },
    {
      "metadata": {
        "id": "BmHJjssLhxYP",
        "colab_type": "code",
        "colab": {}
      },
      "cell_type": "code",
      "source": [
        "df_final_corr = df_final.corr()['is_high'].drop('is_high').sort_values(ascending=False)\n",
        "plt.figure(figsize=(11,10))\n",
        "sns.barplot(x=df_final_corr, y=df_final_corr.index)"
      ],
      "execution_count": 0,
      "outputs": []
    },
    {
      "metadata": {
        "id": "f2VD4ssghxYT",
        "colab_type": "text"
      },
      "cell_type": "markdown",
      "source": [
        "Plotting the independent variables against the target variable reveals that features that have the highest positive correlation with high income are being married and male. Years in education, age, hours worked per week and occupation also correlate with a high income which intuitively makes sense and is in line with the visualisations seen earlier. The largest negative correlation is seen with children under 18 living with parents and persons living alone, although the values are not very high."
      ]
    },
    {
      "metadata": {
        "collapsed": false,
        "id": "0e9gU3VjhxYU",
        "colab_type": "text"
      },
      "cell_type": "markdown",
      "source": [
        "## Baseline"
      ]
    },
    {
      "metadata": {
        "id": "4MbtNoaDhxYV",
        "colab_type": "code",
        "colab": {}
      },
      "cell_type": "code",
      "source": [
        "df_final.is_high.mean()"
      ],
      "execution_count": 0,
      "outputs": []
    },
    {
      "metadata": {
        "id": "mTZPckOAhxYZ",
        "colab_type": "text"
      },
      "cell_type": "markdown",
      "source": [
        "Baseline for the models is ~76%"
      ]
    },
    {
      "metadata": {
        "id": "3GuxzSkShxYa",
        "colab_type": "text"
      },
      "cell_type": "markdown",
      "source": [
        "## Final Dataframe\n",
        "\n",
        "I will retain the dataframe as below and run Lasso regularisation for feature selection at the next stage"
      ]
    },
    {
      "metadata": {
        "id": "IHWxNq9ihxYb",
        "colab_type": "code",
        "colab": {}
      },
      "cell_type": "code",
      "source": [
        "df_final.head()"
      ],
      "execution_count": 0,
      "outputs": []
    },
    {
      "metadata": {
        "id": "oggVhiyahxYf",
        "colab_type": "code",
        "colab": {}
      },
      "cell_type": "code",
      "source": [
        "df_final.columns"
      ],
      "execution_count": 0,
      "outputs": []
    },
    {
      "metadata": {
        "id": "182cRziPhxYi",
        "colab_type": "text"
      },
      "cell_type": "markdown",
      "source": [
        "## Next steps"
      ]
    },
    {
      "metadata": {
        "id": "FSD_5bpvhxYj",
        "colab_type": "text"
      },
      "cell_type": "markdown",
      "source": [
        "1. Process the data further before by handling the imbalanced classes and scaling numeric variables\n",
        "\n",
        "2. Split into train and test datasets\n",
        "\n",
        "3. Aim to build three classification models starting with Lasso regression, followed by KNN and Random Forest\n",
        "\n",
        "4. Update the dataframe according to specific model requirements, e.g. remove dummy categories and encode as ordinal numbers for Random Forest"
      ]
    },
    {
      "metadata": {
        "id": "aHrNJIVGhxYk",
        "colab_type": "code",
        "colab": {}
      },
      "cell_type": "code",
      "source": [
        ""
      ],
      "execution_count": 0,
      "outputs": []
    }
  ]
}